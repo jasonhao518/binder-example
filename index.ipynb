{
 "cells": [
  {
   "cell_type": "markdown",
   "id": "95dfc65e-6f29-427d-84bf-9b2e560917da",
   "metadata": {},
   "source": [
    "我们用一个例子来体验一下istio Service Mesh。现在我们有gke-us-west1 和gke-eu-west1 两个集群，并且在playground namespace 设置了istio-injection: enabled"
   ]
  },
  {
   "cell_type": "code",
   "execution_count": 14,
   "id": "35cef0ea-0857-4773-a4d2-ed8531c0513a",
   "metadata": {},
   "outputs": [
    {
     "name": "stdout",
     "output_type": "stream",
     "text": [
      "apiVersion: v1\n",
      "kind: Namespace\n",
      "metadata:\n",
      "  annotations:\n",
      "    kubectl.kubernetes.io/last-applied-configuration: |\n",
      "      {\"apiVersion\":\"v1\",\"kind\":\"Namespace\",\"metadata\":{\"annotations\":{},\"labels\":{\"argocd.argoproj.io/instance\":\"project-access-gke-us-west1\",\"findi.io/plan\":\"free\",\"istio-injection\":\"enabled\",\"name\":\"playground\"},\"name\":\"playground\"}}\n",
      "  creationTimestamp: \"2022-08-31T20:50:18Z\"\n",
      "  labels:\n",
      "    argocd.argoproj.io/instance: project-access-gke-us-west1\n",
      "    findi.io/plan: free\n",
      "    istio-injection: enabled\n",
      "    kubernetes.io/metadata.name: playground\n",
      "    name: playground\n",
      "  name: playground\n",
      "  resourceVersion: \"26231392\"\n",
      "  uid: 28b5d39f-c298-473b-9db2-8da5bece515c\n",
      "spec:\n",
      "  finalizers:\n",
      "  - kubernetes\n",
      "status:\n",
      "  phase: Active\n"
     ]
    }
   ],
   "source": [
    "kubectl get namespace playground -o yaml"
   ]
  },
  {
   "cell_type": "markdown",
   "id": "d7543980-863f-4145-9367-ea1e5c46c35c",
   "metadata": {},
   "source": [
    "首先使用helm 安装nginx，参考https://artifacthub.io/packages/helm/bitnami/nginx"
   ]
  },
  {
   "cell_type": "code",
   "execution_count": null,
   "id": "e9175ecb-1c78-4a8e-a5c4-73fb6e73e499",
   "metadata": {},
   "outputs": [],
   "source": [
    "helm repo add bitnami https://charts.bitnami.com/bitnami"
   ]
  },
  {
   "cell_type": "code",
   "execution_count": 15,
   "id": "f5397de9-5d16-4822-ba88-ded951a47745",
   "metadata": {},
   "outputs": [],
   "source": [
    "echo \" \n",
    "replicaCount: 1\n",
    "cloneStaticSiteFromGit:\n",
    "enabled: true\n",
    "repository: https://github.com/mdn/beginner-html-site-styled.git\n",
    "branch: master\n",
    "service:\n",
    "type: ClusterIP\n",
    "ingress:\n",
    "enabled: true\n",
    "annotations:\n",
    "  kubernetes.io/tls-acme: \"true\"\n",
    "  cert-manager.io/cluster-issuer: issuer-nginx\n",
    "  external-dns: \"true\"\n",
    "  nginx.ingress.kubernetes.io/service-upstream: \"true\"\n",
    "  nginx.ingress.kubernetes.io/upstream-vhost: \"nginx.playground.svc.cluster.local\"\n",
    "ingressClassName: \"nginx\"\n",
    "hostname: \"nginx-us.playground.findi.biz\"\n",
    "tls: true\n",
    "\" > bitnami.yaml"
   ]
  },
  {
   "cell_type": "code",
   "execution_count": null,
   "id": "21a4cefd-207a-4cd0-ad45-ec81b38ff818",
   "metadata": {},
   "outputs": [],
   "source": [
    "helm upgrade --install -n playground nginx bitnami/nginx --values bitnami.yaml"
   ]
  },
  {
   "cell_type": "markdown",
   "id": "80b55c41-d246-4eac-9941-2348488401bc",
   "metadata": {},
   "source": [
    "检查一下安装状态"
   ]
  },
  {
   "cell_type": "code",
   "execution_count": null,
   "id": "d6f3374e-50f4-4bb1-8ea5-68fc54552832",
   "metadata": {},
   "outputs": [],
   "source": [
    "helm list -n playground"
   ]
  },
  {
   "cell_type": "code",
   "execution_count": null,
   "id": "35ef2a95-5c0d-4dc6-8918-17d71e80668c",
   "metadata": {},
   "outputs": [],
   "source": [
    "kubectl get pods -n playground"
   ]
  },
  {
   "cell_type": "code",
   "execution_count": null,
   "id": "b673dd5a-5bb1-46f5-baea-6025dfd61a8c",
   "metadata": {},
   "outputs": [],
   "source": [
    "kubectl get ingress -n playground"
   ]
  },
  {
   "cell_type": "markdown",
   "id": "0d339e30-4f11-4a16-855c-7c1c5b25b25e",
   "metadata": {},
   "source": [
    "接下来我们访问一下链接来验证一下, 可能需要几分钟等待DNS更新 https://nginx-us.playground.findi.biz/ .尝试刷新一下页面，你会发现页面显示不同内容， 因为在另外一个集群gke-eu-west1上部署了不同的内容。"
   ]
  },
  {
   "cell_type": "markdown",
   "id": "2d5dafa0-7095-4766-a8f9-d7d14ca0b748",
   "metadata": {},
   "source": [
    "现在尝试把当前集群的pod停止"
   ]
  },
  {
   "cell_type": "code",
   "execution_count": null,
   "id": "35fcf4c0-86da-46c6-bd1e-002305eca040",
   "metadata": {},
   "outputs": [],
   "source": [
    "kubectl scale deployment -n playground nginx --replicas=0"
   ]
  },
  {
   "cell_type": "markdown",
   "id": "5ab28bf8-26d9-48e7-ba50-5c90c47d015c",
   "metadata": {},
   "source": [
    "检查一下pod状态，你会发现没有pod在运行"
   ]
  },
  {
   "cell_type": "code",
   "execution_count": null,
   "id": "bb48692d-f2b2-41e5-9bcb-f0c6779e7a77",
   "metadata": {},
   "outputs": [],
   "source": [
    "kubectl get pods -n playground"
   ]
  },
  {
   "cell_type": "markdown",
   "id": "26ea733d-485a-4b44-a770-4e6346fe6155",
   "metadata": {},
   "source": [
    "这时候再次访问上面的链接https://nginx-us.playground.findi.biz/ 仍然能够访问，因为所有traffic会被转到状态正常的Pod"
   ]
  }
 ],
 "metadata": {
  "kernelspec": {
   "display_name": "Bash",
   "language": "bash",
   "name": "bash"
  },
  "language_info": {
   "codemirror_mode": "shell",
   "file_extension": ".sh",
   "mimetype": "text/x-sh",
   "name": "bash"
  }
 },
 "nbformat": 4,
 "nbformat_minor": 5
}
