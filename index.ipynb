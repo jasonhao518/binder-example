{
 "cells": [
  {
   "cell_type": "markdown",
   "id": "95dfc65e-6f29-427d-84bf-9b2e560917da",
   "metadata": {},
   "source": [
    "# 1 Hosting static github website using kubernetes and helm"
   ]
  },
  {
   "cell_type": "markdown",
   "id": "ee43b0ee-bda3-4a44-8eb2-193f10351b60",
   "metadata": {},
   "source": [
    "Set a unique name for your installation, to avoid disturbance. and configure git repo for the website you want to host"
   ]
  },
  {
   "cell_type": "code",
   "execution_count": 1,
   "id": "7dc94961-b946-4bcb-9039-d80bc2154659",
   "metadata": {},
   "outputs": [
    {
     "name": "stdout",
     "output_type": "stream",
     "text": [
      "jason\n",
      "https://github.com/mdn/beginner-html-site-styled.git\n",
      "master\n"
     ]
    }
   ],
   "source": [
    "export RELEASE_NAME=jason; echo $RELEASE_NAME\n",
    "# git repo you want to host as website\n",
    "export GIT_REPO=https://github.com/mdn/beginner-html-site-styled.git; echo $GIT_REPO\n",
    "# git branch for the static website\n",
    "export GIT_BRANCH=master; echo $GIT_BRANCH\n"
   ]
  },
  {
   "cell_type": "markdown",
   "id": "d7543980-863f-4145-9367-ea1e5c46c35c",
   "metadata": {},
   "source": [
    "Install nginx according guide at https://artifacthub.io/packages/helm/bitnami/nginx"
   ]
  },
  {
   "cell_type": "code",
   "execution_count": 2,
   "id": "e9175ecb-1c78-4a8e-a5c4-73fb6e73e499",
   "metadata": {},
   "outputs": [
    {
     "name": "stdout",
     "output_type": "stream",
     "text": [
      "WARNING: Kubernetes configuration file is group-readable. This is insecure. Location: /home/jovyan/.kube/config\n",
      "WARNING: Kubernetes configuration file is world-readable. This is insecure. Location: /home/jovyan/.kube/config\n",
      "\"bitnami\" already exists with the same configuration, skipping\n"
     ]
    }
   ],
   "source": [
    "helm repo add bitnami https://charts.bitnami.com/bitnami"
   ]
  },
  {
   "cell_type": "code",
   "execution_count": 3,
   "id": "f5397de9-5d16-4822-ba88-ded951a47745",
   "metadata": {},
   "outputs": [
    {
     "name": "stdout",
     "output_type": "stream",
     "text": [
      " \n",
      "replicaCount: 1\n",
      "cloneStaticSiteFromGit:\n",
      "  enabled: true\n",
      "  repository: https://github.com/mdn/beginner-html-site-styled.git\n",
      "  branch: master\n",
      "service:\n",
      "  type: ClusterIP\n",
      "ingress:\n",
      "  enabled: true\n",
      "  annotations:\n",
      "    kubernetes.io/tls-acme: \"true\"\n",
      "    cert-manager.io/cluster-issuer: issuer-nginx\n",
      "    external-dns: \"true\"\n",
      "    nginx.ingress.kubernetes.io/service-upstream: \"true\"\n",
      "    nginx.ingress.kubernetes.io/upstream-vhost: jason-nginx.playground.svc.cluster.local\n",
      "  ingressClassName: nginx\n",
      "  hostname: jason-us.playground.findi.biz\n",
      "  tls: true\n",
      "\n"
     ]
    }
   ],
   "source": [
    "echo \" \n",
    "replicaCount: 1\n",
    "cloneStaticSiteFromGit:\n",
    "  enabled: true\n",
    "  repository: ${GIT_REPO}\n",
    "  branch: ${GIT_BRANCH}\n",
    "service:\n",
    "  type: ClusterIP\n",
    "ingress:\n",
    "  enabled: true\n",
    "  annotations:\n",
    "    kubernetes.io/tls-acme: \\\"true\\\"\n",
    "    cert-manager.io/cluster-issuer: issuer-nginx\n",
    "    external-dns: \\\"true\\\"\n",
    "    nginx.ingress.kubernetes.io/service-upstream: \\\"true\\\"\n",
    "    nginx.ingress.kubernetes.io/upstream-vhost: ${RELEASE_NAME}-nginx.playground.svc.cluster.local\n",
    "  ingressClassName: nginx\n",
    "  hostname: ${RELEASE_NAME}-us.playground.findi.biz\n",
    "  tls: true\n",
    "\" > bitnami.yaml ; cat bitnami.yaml"
   ]
  },
  {
   "cell_type": "code",
   "execution_count": 4,
   "id": "21a4cefd-207a-4cd0-ad45-ec81b38ff818",
   "metadata": {},
   "outputs": [
    {
     "name": "stdout",
     "output_type": "stream",
     "text": [
      "WARNING: Kubernetes configuration file is group-readable. This is insecure. Location: /home/jovyan/.kube/config\n",
      "WARNING: Kubernetes configuration file is world-readable. This is insecure. Location: /home/jovyan/.kube/config\n",
      "Release \"jason\" has been upgraded. Happy Helming!\n",
      "NAME: jason\n",
      "LAST DEPLOYED: Wed Sep 14 18:40:00 2022\n",
      "NAMESPACE: playground\n",
      "STATUS: deployed\n",
      "REVISION: 4\n",
      "TEST SUITE: None\n",
      "NOTES:\n",
      "CHART NAME: nginx\n",
      "CHART VERSION: 13.2.4\n",
      "APP VERSION: 1.23.1\n",
      "\n",
      "** Please be patient while the chart is being deployed **\n",
      "NGINX can be accessed through the following DNS name from within your cluster:\n",
      "\n",
      "    jason-nginx.playground.svc.cluster.local (port 80)\n",
      "\n",
      "To access NGINX from outside the cluster, follow the steps below:\n",
      "\n",
      "1. Get the NGINX URL and associate its hostname to your cluster external IP:\n",
      "\n",
      "   export CLUSTER_IP=$(minikube ip) # On Minikube. Use: `kubectl cluster-info` on others K8s clusters\n",
      "   echo \"NGINX URL: https://jason-us.playground.findi.biz\"\n",
      "   echo \"$CLUSTER_IP  jason-us.playground.findi.biz\" | sudo tee -a /etc/hosts\n"
     ]
    }
   ],
   "source": [
    "helm upgrade --install -n playground ${RELEASE_NAME} bitnami/nginx --values bitnami.yaml"
   ]
  },
  {
   "cell_type": "markdown",
   "id": "80b55c41-d246-4eac-9941-2348488401bc",
   "metadata": {},
   "source": [
    "Check installation status"
   ]
  },
  {
   "cell_type": "code",
   "execution_count": 5,
   "id": "d6f3374e-50f4-4bb1-8ea5-68fc54552832",
   "metadata": {},
   "outputs": [
    {
     "name": "stdout",
     "output_type": "stream",
     "text": [
      "WARNING: Kubernetes configuration file is group-readable. This is insecure. Location: /home/jovyan/.kube/config\n",
      "WARNING: Kubernetes configuration file is world-readable. This is insecure. Location: /home/jovyan/.kube/config\n",
      "NAME \tNAMESPACE \tREVISION\tUPDATED                                \tSTATUS  \tCHART       \tAPP VERSION\n",
      "jason\tplayground\t4       \t2022-09-14 18:40:00.278544546 +0000 UTC\tdeployed\tnginx-13.2.4\t1.23.1     \n"
     ]
    }
   ],
   "source": [
    "helm list -n playground"
   ]
  },
  {
   "cell_type": "code",
   "execution_count": 6,
   "id": "35ef2a95-5c0d-4dc6-8918-17d71e80668c",
   "metadata": {},
   "outputs": [
    {
     "name": "stdout",
     "output_type": "stream",
     "text": [
      "NAME                          READY   STATUS    RESTARTS   AGE\n",
      "jason-nginx-fdbb78757-72l7r   3/3     Running   0          6m19s\n"
     ]
    }
   ],
   "source": [
    "kubectl get pods -n playground"
   ]
  },
  {
   "cell_type": "code",
   "execution_count": 7,
   "id": "b673dd5a-5bb1-46f5-baea-6025dfd61a8c",
   "metadata": {},
   "outputs": [
    {
     "name": "stdout",
     "output_type": "stream",
     "text": [
      "NAME          CLASS   HOSTS                           ADDRESS          PORTS     AGE\n",
      "jason-nginx   nginx   jason-us.playground.findi.biz   34.168.186.113   80, 443   42m\n"
     ]
    }
   ],
   "source": [
    "kubectl get ingress -n playground"
   ]
  },
  {
   "cell_type": "markdown",
   "id": "0d339e30-4f11-4a16-855c-7c1c5b25b25e",
   "metadata": {},
   "source": [
    "Now access the url configured above for the website, it may take up to several minutes to let DNS update. "
   ]
  }
 ],
 "metadata": {
  "kernelspec": {
   "display_name": "Bash",
   "language": "bash",
   "name": "bash"
  },
  "language_info": {
   "codemirror_mode": "shell",
   "file_extension": ".sh",
   "mimetype": "text/x-sh",
   "name": "bash"
  }
 },
 "nbformat": 4,
 "nbformat_minor": 5
}
